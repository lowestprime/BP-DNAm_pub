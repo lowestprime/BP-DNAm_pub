{
 "cells": [
  {
   "cell_type": "code",
   "execution_count": null,
   "id": "954f4982",
   "metadata": {},
   "outputs": [],
   "source": [
    "import os\n",
    "import sys\n",
    "os.environ['CUDA_HOME'] = '/u/local/cuda/12.3'\n",
    "os.environ['PATH'] = f\"/u/local/cuda/12.3/bin:{os.environ['PATH']}\"\n",
    "# Append the site-packages directory of the rapids-24.10 environment\n",
    "# sys.path.append('/u/home/c/cobeaman/.conda/envs/rapids-24.10/lib/python3.9/site-packages')\n",
    "# Verify it's been added\n",
    "# print(sys.path)"
   ]
  },
  {
   "cell_type": "code",
   "execution_count": null,
   "id": "50a100fd",
   "metadata": {
    "scrolled": true
   },
   "outputs": [],
   "source": [
    "!pip --version\n",
    "!conda --version\n",
    "!nvcc --version\n",
    "!mamba --version\n",
    "!nvidia-smi"
   ]
  },
  {
   "cell_type": "code",
   "execution_count": null,
   "id": "a0baae5f",
   "metadata": {},
   "outputs": [],
   "source": [
    "# !conda create -y -n my-conda-env\n",
    "# !source activate my-conda-env\n",
    "# !conda create -n rapids-24.10 -c rapidsai-nightly -c conda-forge -c nvidia  \\\n",
    "#     rapids=24.10 python=3.9 'cuda-version>=12.0,<=12.5' -y"
   ]
  },
  {
   "cell_type": "code",
   "execution_count": null,
   "id": "1bf41b4b",
   "metadata": {
    "scrolled": true
   },
   "outputs": [],
   "source": [
    "# !pip install torch pandas numpy pyaging\n",
    "# Install cuDF and dask_cudf from the RAPIDS channel\n",
    "# !mamba create --prefix ~/.conda/envs/my_rapids_env -c rapidsai-nightly -c conda-forge -c nvidia  \\\n",
    "#     rapids=24.10 python=3.10 'cuda-version>=12.0,<=12.5' -y"
   ]
  },
  {
   "cell_type": "code",
   "execution_count": null,
   "id": "e8a4d456",
   "metadata": {},
   "outputs": [],
   "source": [
    "# !pip install --extra-index-url=https://pypi.nvidia.com cudf-cu12 dask-cudf-cu12 --only-binary=:all:"
   ]
  },
  {
   "cell_type": "code",
   "execution_count": 27,
   "id": "20ac963a",
   "metadata": {},
   "outputs": [
    {
     "ename": "ModuleNotFoundError",
     "evalue": "No module named 'pyaging'",
     "output_type": "error",
     "traceback": [
      "\u001b[0;31m---------------------------------------------------------------------------\u001b[0m",
      "\u001b[0;31mModuleNotFoundError\u001b[0m                       Traceback (most recent call last)",
      "Cell \u001b[0;32mIn[27], line 9\u001b[0m\n\u001b[1;32m      7\u001b[0m \u001b[38;5;28;01mimport\u001b[39;00m \u001b[38;5;21;01mtorch\u001b[39;00m\n\u001b[1;32m      8\u001b[0m \u001b[38;5;28;01mimport\u001b[39;00m \u001b[38;5;21;01mpandas\u001b[39;00m \u001b[38;5;28;01mas\u001b[39;00m \u001b[38;5;21;01mpd\u001b[39;00m\n\u001b[0;32m----> 9\u001b[0m \u001b[38;5;28;01mimport\u001b[39;00m \u001b[38;5;21;01mpyaging\u001b[39;00m \u001b[38;5;28;01mas\u001b[39;00m \u001b[38;5;21;01mpya\u001b[39;00m\n\u001b[1;32m     10\u001b[0m \u001b[38;5;28;01mimport\u001b[39;00m \u001b[38;5;21;01mnumpy\u001b[39;00m \u001b[38;5;28;01mas\u001b[39;00m \u001b[38;5;21;01mnp\u001b[39;00m\n\u001b[1;32m     11\u001b[0m \u001b[38;5;28mprint\u001b[39m(torch\u001b[38;5;241m.\u001b[39mversion\u001b[38;5;241m.\u001b[39mcuda)\n",
      "\u001b[0;31mModuleNotFoundError\u001b[0m: No module named 'pyaging'"
     ]
    }
   ],
   "source": [
    "import cupy as cp\n",
    "import inspect\n",
    "import shutil\n",
    "import json\n",
    "import cudf\n",
    "import dask_cudf\n",
    "import torch\n",
    "import pandas as pd\n",
    "import pyaging as pya\n",
    "import numpy as np\n",
    "print(torch.version.cuda)\n",
    "!pip freeze > requirements.txt"
   ]
  },
  {
   "cell_type": "code",
   "execution_count": null,
   "id": "78fdd7ad",
   "metadata": {},
   "outputs": [],
   "source": [
    "list cudf\n",
    "# Load your specific methylation data\n",
    "methylation_data_subset = cudf.read_csv('/u/project/ophoff/cobeaman/Tools/DNAmGrimAgeGitHub/input/mymetharray_subset_2458_r_653_c_08092024_082626.csv', index_col=0)\n",
    "methylation_data_final = dask_cudf.read_csv('/u/project/ophoff/cobeaman/Tools/DNAmGrimAgeGitHub/input/mymetharray_final_2458_r_731788_c_08092024_081841.csv', index_col=0)"
   ]
  },
  {
   "cell_type": "code",
   "execution_count": null,
   "id": "6d02e3e8",
   "metadata": {},
   "outputs": [],
   "source": [
    "# Ensure 'Female' column is binary (0 or 1)\n",
    "methylation_data_final['Female'] = (methylation_data_final['Female'] == 1).astype(int)\n",
    "methylation_data_subset['Female'] = (methylation_data_subset['Female'] == 1).astype(int)\n",
    "\n",
    "# Handle any missing data (if necessary)\n",
    "# methylation_data_final.dropna(inplace=True)\n",
    "# methylation_data_subset.dropna(inplace=True)"
   ]
  },
  {
   "cell_type": "code",
   "execution_count": null,
   "id": "d13f0542",
   "metadata": {},
   "outputs": [],
   "source": [
    "# Convert DataFrames to AnnData objects\n",
    "adata_final = pya.pp.df_to_adata(methylation_data_final, metadata_cols=['Female', 'age'], imputer_strategy='knn')\n",
    "adata_subset = pya.pp.df_to_adata(methylation_data_subset, metadata_cols=['Female', 'age'], imputer_strategy='knn')"
   ]
  },
  {
   "cell_type": "code",
   "execution_count": null,
   "id": "ab805e85",
   "metadata": {},
   "outputs": [],
   "source": [
    "# Predict age using GrimAge2 for both datasets\n",
    "pya.pred.predict_age(adata_final, ['GrimAge2'])\n",
    "pya.pred.predict_age(adata_subset, ['GrimAge2'])"
   ]
  },
  {
   "cell_type": "code",
   "execution_count": null,
   "id": "e80ad3a6",
   "metadata": {},
   "outputs": [],
   "source": [
    "# View the first few rows of predictions\n",
    "print(adata_final.obs[['GrimAge2']].head())\n",
    "print(adata_subset.obs[['GrimAge2']].head())\n",
    "\n",
    "# Save predictions to CSV files\n",
    "adata_final.obs[['GrimAge2']].to_csv('GrimAge2_predictions_final.csv')\n",
    "adata_subset.obs[['GrimAge2']].to_csv('GrimAge2_predictions_subset.csv')"
   ]
  },
  {
   "cell_type": "code",
   "execution_count": null,
   "id": "8827c32e",
   "metadata": {},
   "outputs": [],
   "source": [
    "model = pya.models.GrimAge2()"
   ]
  },
  {
   "cell_type": "code",
   "execution_count": null,
   "id": "a4cfcc93",
   "metadata": {},
   "outputs": [],
   "source": [
    "model.metadata.update({\n",
    "    \"clock_name\": 'grimage2',\n",
    "    \"data_type\": 'methylation',\n",
    "    \"species\": 'Homo sapiens',\n",
    "    \"year\": 2022,\n",
    "    \"approved_by_author\": '⌛',\n",
    "    \"citation\": \"Lu, Ake T., et al. \\\"DNA methylation GrimAge version 2.\\\" Aging (Albany NY) 14.23 (2022): 9484.\",\n",
    "    \"doi\": \"https://doi.org/10.18632/aging.204434\",\n",
    "    \"research_only\": True,\n",
    "    \"notes\": None\n",
    "})"
   ]
  },
  {
   "cell_type": "code",
   "execution_count": null,
   "id": "0f80c7f2",
   "metadata": {},
   "outputs": [],
   "source": [
    "urls = [\n",
    "    \"https://pyaging.s3.amazonaws.com/supporting_files/grimage2_subcomponents.csv\",\n",
    "    \"https://pyaging.s3.amazonaws.com/supporting_files/grimage2.csv\",\n",
    "    \"https://pyaging.s3.amazonaws.com/supporting_files/datMiniAnnotation3_Gold.csv\",\n",
    "]\n",
    "dir = \".\"\n",
    "logger = pya.logger.Logger()\n",
    "\n",
    "for url in urls:\n",
    "    pya.utils.download(url, dir, logger, indent_level=1)\n"
   ]
  },
  {
   "cell_type": "code",
   "execution_count": null,
   "id": "7ee7923e",
   "metadata": {},
   "outputs": [],
   "source": [
    "# Load feature sets from CSV files\n",
    "df = pd.read_csv('grimage2_subcomponents.csv', index_col=0)\n",
    "df_grimage = pd.read_csv('grimage2.csv', index_col=0)\n",
    "\n",
    "# Identify features\n",
    "all_features = np.unique(df['var'])[2:].tolist() + ['Female', 'Age']\n",
    "model.features = all_features"
   ]
  },
  {
   "cell_type": "code",
   "execution_count": null,
   "id": "6076c205",
   "metadata": {},
   "outputs": [],
   "source": [
    "# Function to load weights for subcomponents\n",
    "def load_model_weights(y_pred, model_attr):\n",
    "    indices = torch.tensor([all_features.index(item) for item in df.loc[df['Y.pred'] == y_pred, 'var'] if item in all_features]).long()\n",
    "    model_layer = pya.models.LinearModel(input_dim=len(indices))\n",
    "    model_layer.linear.weight.data = torch.tensor(df.loc[df['Y.pred'] == y_pred, 'beta'][1:].values).unsqueeze(0).float()\n",
    "    model_layer.linear.bias.data = torch.tensor(df.loc[df['Y.pred'] == y_pred, 'beta'].iloc[0]).float()\n",
    "    setattr(model, model_attr, model_layer)\n",
    "    setattr(model, f'features_{model_attr}', indices)\n",
    "\n",
    "# Apply the function to each subcomponent\n",
    "components = {\n",
    "    'DNAmPACKYRS': 'PACKYRS', \n",
    "    'DNAmadm': 'ADM', \n",
    "    'DNAmB2M': 'B2M',\n",
    "    'DNAmCystatin_C': 'CystatinC', \n",
    "    'DNAmGDF_15': 'GDF15',\n",
    "    'DNAmleptin': 'Leptin',\n",
    "    'DNAmpai_1': 'PAI1',\n",
    "    'DNAmTIMP_1': 'TIMP1',\n",
    "    'DNAmlog.CRP': 'LogCRP',\n",
    "    'DNAmlog.A1C': 'A1C'\n",
    "}\n",
    "\n",
    "for y_pred, model_attr in components.items():\n",
    "    load_model_weights(y_pred, model_attr)\n",
    "\n",
    "# Load base model weights\n",
    "base_model = pya.models.LinearModel(input_dim=len(df_grimage))\n",
    "base_model.linear.weight.data = torch.tensor(df_grimage['beta'].tolist()).unsqueeze(0).float()\n",
    "base_model.linear.bias.data = torch.tensor([0]).float()\n",
    "model.base_model = base_model"
   ]
  },
  {
   "cell_type": "code",
   "execution_count": null,
   "id": "9b599491",
   "metadata": {},
   "outputs": [],
   "source": [
    "reference_df = pd.read_csv('datMiniAnnotation3_Gold.csv', index_col=0)\n",
    "model.reference_values = reference_df.loc[model.features[:-2]]['gold'].tolist() + [1, 65]  # Example: 65-year-old female"
   ]
  },
  {
   "cell_type": "code",
   "execution_count": null,
   "id": "a6ff8594",
   "metadata": {},
   "outputs": [],
   "source": [
    "model.preprocess_name = None\n",
    "model.preprocess_dependencies = None\n",
    "model.postprocess_name = 'cox_to_years'\n",
    "model.postprocess_dependencies = None"
   ]
  },
  {
   "cell_type": "code",
   "execution_count": null,
   "id": "88a567e4",
   "metadata": {},
   "outputs": [],
   "source": [
    "pya.utils.print_model_details(model)"
   ]
  },
  {
   "cell_type": "code",
   "execution_count": null,
   "id": "d19e5750",
   "metadata": {},
   "outputs": [],
   "source": [
    "torch.save(model, f\"../weights/{model.metadata['clock_name']}.pt\")"
   ]
  },
  {
   "cell_type": "code",
   "execution_count": null,
   "id": "2934afd8",
   "metadata": {},
   "outputs": [],
   "source": [
    "# Extract relevant features\n",
    "input_data_final = methylation_data_final[model.features].values\n",
    "input_data_subset = methylation_data_subset[model.features].values\n",
    "\n",
    "# Convert to tensor and run the model\n",
    "input_tensor_final = torch.tensor(input_data_final, dtype=torch.float32)\n",
    "model.eval()\n",
    "model.to(float)\n",
    "pred = model(input_tensor_final)\n",
    "print(pred)\n",
    "\n",
    "# Convert to tensor and run the model\n",
    "input_tensor_subset = torch.tensor(input_data_subset, dtype=torch.float32)\n",
    "model.eval()\n",
    "model.to(float)\n",
    "pred = model(input_tensor_final)\n",
    "print(pred)"
   ]
  },
  {
   "cell_type": "code",
   "execution_count": null,
   "id": "64a98497",
   "metadata": {},
   "outputs": [],
   "source": [
    "def remove_folder(path):\n",
    "    try:\n",
    "        shutil.rmtree(path)\n",
    "        print(f\"Deleted folder: {path}\")\n",
    "    except Exception as e:\n",
    "        print(f\"Error deleting folder {path}: {e}\")\n",
    "\n",
    "# Get a list of all files and folders in the current directory\n",
    "all_items = os.listdir('.')        "
   ]
  },
  {
   "cell_type": "code",
   "execution_count": null,
   "id": "b1864b1e",
   "metadata": {},
   "outputs": [],
   "source": [
    "for item in os.listdir('.'):\n",
    "    if os.path.isfile(item) and not item.endswith('.ipynb'):\n",
    "        os.remove(item)\n",
    "    elif os.path.isdir(item):\n",
    "        shutil.rmtree(item)"
   ]
  }
 ],
 "metadata": {
  "kernelspec": {
   "display_name": "Python 3 (ipykernel)",
   "language": "python",
   "name": "python3"
  },
  "language_info": {
   "codemirror_mode": {
    "name": "ipython",
    "version": 3
   },
   "file_extension": ".py",
   "mimetype": "text/x-python",
   "name": "python",
   "nbconvert_exporter": "python",
   "pygments_lexer": "ipython3",
   "version": "3.10.9"
  }
 },
 "nbformat": 4,
 "nbformat_minor": 5
}
